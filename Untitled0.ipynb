{
  "nbformat": 4,
  "nbformat_minor": 0,
  "metadata": {
    "colab": {
      "provenance": [],
      "authorship_tag": "ABX9TyM4uE0b2pqtmaYcJCcxpS3d"
    },
    "kernelspec": {
      "name": "python3",
      "display_name": "Python 3"
    },
    "language_info": {
      "name": "python"
    }
  },
  "cells": [
    {
      "cell_type": "code",
      "source": [
        "!pip install -q streamlit\n",
        "!npm install localtunnel"
      ],
      "metadata": {
        "colab": {
          "base_uri": "https://localhost:8080/"
        },
        "id": "Mvev4sULbvJO",
        "outputId": "5e6dbf86-3b02-4e63-f37e-c83d22968f23"
      },
      "execution_count": 22,
      "outputs": [
        {
          "output_type": "stream",
          "name": "stdout",
          "text": [
            "\u001b[K\u001b[?25h\u001b[37;40mnpm\u001b[0m \u001b[0m\u001b[30;43mWARN\u001b[0m \u001b[0m\u001b[35msaveError\u001b[0m ENOENT: no such file or directory, open '/content/package.json'\n",
            "\u001b[0m\u001b[37;40mnpm\u001b[0m \u001b[0m\u001b[30;43mWARN\u001b[0m \u001b[0m\u001b[35menoent\u001b[0m ENOENT: no such file or directory, open '/content/package.json'\n",
            "\u001b[0m\u001b[37;40mnpm\u001b[0m \u001b[0m\u001b[30;43mWARN\u001b[0m\u001b[35m\u001b[0m content No description\n",
            "\u001b[0m\u001b[37;40mnpm\u001b[0m \u001b[0m\u001b[30;43mWARN\u001b[0m\u001b[35m\u001b[0m content No repository field.\n",
            "\u001b[0m\u001b[37;40mnpm\u001b[0m \u001b[0m\u001b[30;43mWARN\u001b[0m\u001b[35m\u001b[0m content No README data\n",
            "\u001b[0m\u001b[37;40mnpm\u001b[0m \u001b[0m\u001b[30;43mWARN\u001b[0m\u001b[35m\u001b[0m content No license field.\n",
            "\u001b[0m\n",
            "\u001b[K\u001b[?25h+ localtunnel@2.0.2\n",
            "updated 1 package and audited 36 packages in 0.514s\n",
            "\n",
            "3 packages are looking for funding\n",
            "  run `npm fund` for details\n",
            "\n",
            "found \u001b[92m0\u001b[0m vulnerabilities\n",
            "\n"
          ]
        }
      ]
    },
    {
      "cell_type": "code",
      "source": [
        "%%writefile app.py\n",
        "\n",
        "import streamlit as st\n",
        "import pandas as pd\n",
        "import plotly.express as px\n",
        "#####################################\n",
        "#            FUNCTIONS              #\n",
        "#####################################\n",
        "def additional_bedroom_opportunity(x):\n",
        "  try:\n",
        "    # 2bd >= 1300 can usually fit an additional bd\n",
        "    # 3bd >= 1950 can usually fit an additional bd\n",
        "    # 4bd >= 2600 can usually fit an additional bd\n",
        "    if (x['ratio_sqft_bd'] >= 650) and (x['ratio_sqft_bd'] is not None) and (x['BEDS'] > 1) and (x['PROPERTY TYPE'] == 'Single Family Residential'):\n",
        "      return True\n",
        "    else:\n",
        "      return False\n",
        "  \n",
        "  except:\n",
        "    return False\n",
        "\n",
        "\n",
        "def adu_potential(x):\n",
        "  try:\n",
        "    if (x['ratio_lot_sqft'] >= 5) and (x['ratio_lot_sqft'] is not None) and (x['HOA/MONTH'] is not None) and (x['PROPERTY TYPE'] == 'Single Family Residential'):\n",
        "      return True\n",
        "    else:\n",
        "      return False\n",
        "  except:\n",
        "    return False\n",
        "def convert_df(df):\n",
        "   return df.to_csv(index=False).encode('utf-8')\n",
        "#####################################\n",
        "#            HOME PAGE              #\n",
        "#####################################\n",
        "st.title('House Property Data of  Frigate Uganda Limited 🏠')\n",
        "st.markdown('Web app is to provide real estate summary stats 📊 based on our House Property Data of  Frigate Uganda Limited search.')\n",
        "st.markdown(\"#### {0} :point_down:\".format('Upload a CSV file'))\n",
        "uploaded_file = st.file_uploader(\"Choose a file\")\n",
        "if uploaded_file is not None:\n",
        "    # read csv file\n",
        "    df = pd.read_csv(uploaded_file)\n",
        "    #st.write(df.head()) # write first 5 rows (remove after testing)\n",
        "     #####################################\n",
        "    #              METRICS              #\n",
        "    #####################################\n",
        "    st.markdown(\"## Frigate Uganda Limited Property Metrics 🏙️\")\n",
        "    col1, col2, col3, col4 = st.columns(4)\n",
        "    col1.metric('Total',  len(df), \n",
        "      help='Number of properties in search')\n",
        "    col2.metric('Avg Price', \"${:,}\".format(df['PRICE'].mean()).split(',')[0] + 'K', \n",
        "      help='Average sale price of properties in search')\n",
        "    col3.metric('Avg DOM', int(df['DAYS ON MARKET'].mean()), \n",
        "      help='Average days on market of properties in search')\n",
        "    col4.metric('Avg PPSQFT', \"${:,}\".format(int(df['$/SQUARE FEET'].mean())), \n",
        "      help='Average price per square foot of properties in search')\n",
        "      #####################################\n",
        "    #             CHARTS                #\n",
        "    #####################################\n",
        "    with st.expander('Charts',expanded=True):\n",
        "      st.markdown(\"## Charts 📈\")\n",
        "      fig = px.histogram(df, x=\"DAYS ON MARKET\", \n",
        "          title=\"Days on Market Histogram Chart\")\n",
        "      st.plotly_chart(fig, use_container_width=True)\n",
        "\n",
        "      fig = px.box(df, x=\"PRICE\", title=\"Price Box Plot Chart\")\n",
        "      st.plotly_chart(fig, use_container_width=True)\n",
        "\n",
        "      fig = px.histogram(df, x=\"$/SQUARE FEET\", \n",
        "          title=\"Price per SQFT Histogram Chart\")\n",
        "      st.plotly_chart(fig, use_container_width=True)\n",
        "        #####################################\n",
        "    #             FEATURES              #\n",
        "    #####################################\n",
        "    df_features = df.copy()\n",
        "    df_features['ratio_sqft_bd'] = df_features['SQUARE FEET'] / df_features['BEDS']\n",
        "    df_features['additional_bd_opp'] = df_features.apply(lambda x: \n",
        "      additional_bedroom_opportunity(x), axis=1)\n",
        "    df_features['ratio_lot_sqft'] =  df_features['LOT SIZE'] / df_features['SQUARE FEET']\n",
        "    df_features['adu_potential'] = df_features.apply(lambda x: \n",
        "      adu_potential(x), axis=1)\n",
        "         #####################################\n",
        "    #              TABLES               #\n",
        "    #####################################\n",
        "    with st.expander('Opportunities', expanded=True):\n",
        "        st.markdown(\"## Opportunities 💡\")\n",
        "        df_add_bd = df_features.loc[df_features['additional_bd_opp'] == True]\n",
        "        df_adu = df_features.loc[df_features['adu_potential'] == True]\n",
        "\n",
        "        col1, col2 = st.columns(2)\n",
        "        col1.metric('Total Add Bd', len(df_add_bd), \n",
        "            help='Number of properties with additonal bedroom opportunity')\n",
        "        col2.metric('Total ADU', len(df_adu), \n",
        "            help='Number of properties with ADU potential')\n",
        "\n",
        "        st.markdown(\"#### Featurized Dataset\")\n",
        "        st.write(df_features)\n",
        "\n",
        "        # convert featurized dataset to csv\n",
        "        csv = convert_df(df_features)\n",
        "\n",
        "        st.download_button(\n",
        "            \"Download 🔽\",\n",
        "            csv,\n",
        "            \"property_dataset.csv\",\n",
        "            \"text/csv\",\n",
        "            key='download-csv'\n",
        "        ) \n",
        "  "
      ],
      "metadata": {
        "colab": {
          "base_uri": "https://localhost:8080/"
        },
        "id": "mbXsaAjNb10I",
        "outputId": "4a13bf10-b894-4412-f46f-e4a06e4fdc81"
      },
      "execution_count": 51,
      "outputs": [
        {
          "output_type": "stream",
          "name": "stdout",
          "text": [
            "Overwriting app.py\n"
          ]
        }
      ]
    },
    {
      "cell_type": "code",
      "source": [
        "!streamlit run /content/app.py &>/content/logs.txt &"
      ],
      "metadata": {
        "id": "FDl2Ah3tb7-a"
      },
      "execution_count": 52,
      "outputs": []
    },
    {
      "cell_type": "code",
      "source": [
        "!npx localtunnel --port 8501"
      ],
      "metadata": {
        "colab": {
          "base_uri": "https://localhost:8080/"
        },
        "id": "4E7_ptKNvfDY",
        "outputId": "78df4d29-0616-4ba8-fbce-d67b14c4a03d"
      },
      "execution_count": null,
      "outputs": [
        {
          "output_type": "stream",
          "name": "stdout",
          "text": [
            "\u001b[K\u001b[?25hnpx: installed 22 in 2.312s\n",
            "your url is: https://violet-moments-kick-35-201-253-53.loca.lt\n"
          ]
        }
      ]
    }
  ]
}